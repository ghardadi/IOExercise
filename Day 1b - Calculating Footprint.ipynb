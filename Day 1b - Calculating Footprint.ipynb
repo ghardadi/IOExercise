{
 "cells": [
  {
   "cell_type": "markdown",
   "metadata": {},
   "source": [
    "# 1. Step: Import of required libraries\n",
    "\n",
    "In this step all the libraries needed within the script are imported"
   ]
  },
  {
   "cell_type": "code",
   "execution_count": 1,
   "metadata": {},
   "outputs": [],
   "source": [
    "import sys\n",
    "import logging\n",
    "import xlrd, xlsxwriter\n",
    "import numpy as np\n",
    "import pandas as pd\n",
    "import time\n",
    "import datetime\n",
    "import scipy.io\n",
    "import scipy"
   ]
  },
  {
   "cell_type": "markdown",
   "metadata": {},
   "source": [
    "# 2. Step: Locating the Database Address\n",
    "\n",
    "The database address is defined in this step."
   ]
  },
  {
   "cell_type": "code",
   "execution_count": 2,
   "metadata": {},
   "outputs": [],
   "source": [
    "ProjectSpecs_Path_Main     = 'C:/Users/ghardadi/Documents/'\n",
    "ProjectSpecs_Name_ConFile  = 'MRIO_Config.xlsx'\n",
    "ProjectSpecs_DataPath1     = 'C:/Users/ghardadi/EXIOBASE_2/'\n",
    "ProjectSpecs_PackagePath1  = 'C:/Users/ghardadi/'\n",
    "\n",
    "sys.path.append(ProjectSpecs_PackagePath1)"
   ]
  },
  {
   "cell_type": "markdown",
   "metadata": {},
   "source": [
    "# 3. Step: Extracting the Information from Config File\n",
    "\n",
    "In this step we collect the information from config file and start the simulation."
   ]
  },
  {
   "cell_type": "code",
   "execution_count": 3,
   "metadata": {},
   "outputs": [
    {
     "name": "stdout",
     "output_type": "stream",
     "text": [
      "Start of simulation: Mon Feb  3 11:47:52 2020.\n"
     ]
    }
   ],
   "source": [
    "# Load project-specific config file\n",
    "Project_Configfile  = xlrd.open_workbook(ProjectSpecs_Path_Main + 'Calculation/' + ProjectSpecs_Name_ConFile)\n",
    "Project_Configsheet = Project_Configfile.sheet_by_name('Config')\n",
    "\n",
    "# Naming script and defining of name specifications (e.g. date when the script was used)\n",
    "Name_Script        = Project_Configsheet.cell_value(6,3)\n",
    "Name_Scenario      = Project_Configsheet.cell_value(5,3)\n",
    "StartTime          = datetime.datetime.now()\n",
    "TimeString         = str(StartTime.year) + '_' + str(StartTime.month) + '_' + str(StartTime.day) + '__' + str(StartTime.hour) + '_' + str(StartTime.minute) + '_' + str(StartTime.second)\n",
    "DateString         = str(StartTime.year) + '_' + str(StartTime.month) + '_' + str(StartTime.day)\n",
    "Path_Result        = ProjectSpecs_Path_Main + 'Results/'\n",
    "\n",
    "# Importing information about Exiobase 2.2 from excel file\n",
    "EB3_NoofCountries  = int(Project_Configsheet.cell_value(4,8))\n",
    "EB3_NoofProducts   = int(Project_Configsheet.cell_value(5,8))\n",
    "EB3_NoofIndustries = int(Project_Configsheet.cell_value(6,8))\n",
    "EB3_NoofIOSectors  = int(Project_Configsheet.cell_value(7,8))\n",
    "EB3_NoofFDCategories = int(Project_Configsheet.cell_value(8,8))\n",
    "\n",
    "# Start the timer\n",
    "Time_Start = time.time()\n",
    "print('Start of simulation: ' + time.asctime() + '.')"
   ]
  },
  {
   "cell_type": "markdown",
   "metadata": {},
   "source": [
    "# 4. Step: Import Exiobase 3.6\n",
    "\n",
    "Now, Exiobase 3.6 will be imported. This includes the following:\n",
    "\n",
    "L-Matrix containing the Leontief-Inverse\n",
    "\n",
    "S-Matrix containing the emissions\n",
    "\n",
    "Y-Matrix containing the final demands\n",
    "\n",
    "FDE-Matrix containing the direct emissions caused by the final demands"
   ]
  },
  {
   "cell_type": "code",
   "execution_count": 4,
   "metadata": {},
   "outputs": [
    {
     "name": "stdout",
     "output_type": "stream",
     "text": [
      "Loading Exiobase 3.6 data.\n",
      "Import L-Matrix (Leontief-Inverse)\n",
      "Import S-Matrix (Emissions).\n",
      "Import Y-Matrix (Final Demands)\n",
      "Import FDE-Matrix (Direct Emissions from Final Demand).\n",
      "Import the Names of Industry Sectors.\n",
      "Import the Names of Extension Codes.\n",
      "Import the Names of Regions.\n"
     ]
    }
   ],
   "source": [
    "print('Loading Exiobase 3.6 data.')\n",
    "\n",
    "MRIO_Name = 'EXIOBASE3_13_Mon_49R_2018_06_01_ITCpxp.mat'\n",
    "\n",
    "Filestring_Matlab_in = ProjectSpecs_DataPath1 + MRIO_Name\n",
    "\n",
    "print('Import L-Matrix (Leontief-Inverse)')\n",
    "MRIO_L = scipy.io.loadmat(Filestring_Matlab_in)['EB3_L_ITC']\n",
    "\n",
    "print('Import S-Matrix (Emissions).')\n",
    "MRIO_S = scipy.io.loadmat(Filestring_Matlab_in)['EB3_S_ITC']\n",
    "\n",
    "print('Import Y-Matrix (Final Demands)')\n",
    "MRIO_Y = scipy.io.loadmat(Filestring_Matlab_in)['EB3_Y']\n",
    "\n",
    "print('Import FDE-Matrix (Direct Emissions from Final Demand).')\n",
    "MRIO_FDE = scipy.io.loadmat(Filestring_Matlab_in)['EB3_FinalDemand_Emissions']\n",
    "\n",
    "print('Import the Names of Industry Sectors.')\n",
    "MRIO_Prod = scipy.io.loadmat(Filestring_Matlab_in)['EB3_ProductNames200']\n",
    "\n",
    "print('Import the Names of Extension Codes.')\n",
    "MRIO_Ext = scipy.io.loadmat(Filestring_Matlab_in)['EB3_Extensions']\n",
    "\n",
    "print('Import the Names of Regions.')\n",
    "MRIO_Reg = scipy.io.loadmat(Filestring_Matlab_in)['EB3_RegionList']"
   ]
  },
  {
   "cell_type": "markdown",
   "metadata": {},
   "source": [
    "### Importing population data"
   ]
  },
  {
   "cell_type": "code",
   "execution_count": 5,
   "metadata": {},
   "outputs": [
    {
     "name": "stdout",
     "output_type": "stream",
     "text": [
      "['Austria', 'Belgium', 'Bulgaria', 'Cyprus', 'Czech Republic', 'Germany', 'Denmark', 'Estonia', 'Spain', 'Finland', 'France', 'Greece', 'Croatia', 'Hungary', 'Ireland', 'Italy', 'Lithuania', 'Luxembourg', 'Latvia', 'Malta', 'Netherlands', 'Poland', 'Portugal', 'Romania', 'Sweden', 'Slovenia', 'Slovakia', 'United Kingdom', 'United States', 'Japan', 'China', 'Canada', 'South Korea', 'Brazil', 'India', 'Mexico', 'Russia', 'Australia', 'Switzerland', 'Turkey', 'Taiwan', 'Norway', 'Indonesia', 'South Africa', 'RoW Asia and Pacific', 'RoW America', 'RoW Europe', 'RoW Africa', 'RoW Middle East']\n",
      "\n",
      "[8479823, 11159407, 7265115, 1143866, 10334160, 80645605, 5461438, 1317997, 46620045, 5288720, 65998687, 10965211, 4255689, 9893082, 4623816, 60233948, 2957689, 543360, 2012647, 425967, 16804432, 38040196, 10457295, 19983693, 9600379, 2059953, 5413393, 64128226, 316057727, 127445000, 1357380000, 35082954, 50428893, 201035903, 1280846129, 118827161, 143506911, 23128129, 8089346, 75928564, 23374000, 5079623, 251806402, 53689236, 927489368, 290288863, 83727963, 978480969, 320848739]\n"
     ]
    }
   ],
   "source": [
    "Region_Datasheet = Project_Configfile.sheet_by_name('EXIOBASE 3 countries')\n",
    "\n",
    "Region_Names = []\n",
    "for m in range(0,49):\n",
    "    Region_Names.append(Region_Datasheet.cell_value(m+4,5))\n",
    "    \n",
    "Population = []\n",
    "for m in range(0,49):\n",
    "    Population.append(int(Region_Datasheet.cell_value(m+4,12)))\n",
    "\n",
    "print(Region_Names)\n",
    "print()\n",
    "print(Population)"
   ]
  },
  {
   "cell_type": "code",
   "execution_count": null,
   "metadata": {},
   "outputs": [],
   "source": []
  },
  {
   "cell_type": "code",
   "execution_count": 6,
   "metadata": {},
   "outputs": [
    {
     "data": {
      "text/html": [
       "<div>\n",
       "<style scoped>\n",
       "    .dataframe tbody tr th:only-of-type {\n",
       "        vertical-align: middle;\n",
       "    }\n",
       "\n",
       "    .dataframe tbody tr th {\n",
       "        vertical-align: top;\n",
       "    }\n",
       "\n",
       "    .dataframe thead th {\n",
       "        text-align: right;\n",
       "    }\n",
       "</style>\n",
       "<table border=\"1\" class=\"dataframe\">\n",
       "  <thead>\n",
       "    <tr style=\"text-align: right;\">\n",
       "      <th></th>\n",
       "      <th>Region</th>\n",
       "    </tr>\n",
       "  </thead>\n",
       "  <tbody>\n",
       "    <tr>\n",
       "      <td>0</td>\n",
       "      <td>Austria</td>\n",
       "    </tr>\n",
       "    <tr>\n",
       "      <td>1</td>\n",
       "      <td>Belgium</td>\n",
       "    </tr>\n",
       "    <tr>\n",
       "      <td>2</td>\n",
       "      <td>Bulgaria</td>\n",
       "    </tr>\n",
       "    <tr>\n",
       "      <td>3</td>\n",
       "      <td>Cyprus</td>\n",
       "    </tr>\n",
       "    <tr>\n",
       "      <td>4</td>\n",
       "      <td>Czech Republic</td>\n",
       "    </tr>\n",
       "    <tr>\n",
       "      <td>5</td>\n",
       "      <td>Germany</td>\n",
       "    </tr>\n",
       "    <tr>\n",
       "      <td>6</td>\n",
       "      <td>Denmark</td>\n",
       "    </tr>\n",
       "    <tr>\n",
       "      <td>7</td>\n",
       "      <td>Estonia</td>\n",
       "    </tr>\n",
       "    <tr>\n",
       "      <td>8</td>\n",
       "      <td>Spain</td>\n",
       "    </tr>\n",
       "    <tr>\n",
       "      <td>9</td>\n",
       "      <td>Finland</td>\n",
       "    </tr>\n",
       "    <tr>\n",
       "      <td>10</td>\n",
       "      <td>France</td>\n",
       "    </tr>\n",
       "    <tr>\n",
       "      <td>11</td>\n",
       "      <td>Greece</td>\n",
       "    </tr>\n",
       "    <tr>\n",
       "      <td>12</td>\n",
       "      <td>Croatia</td>\n",
       "    </tr>\n",
       "    <tr>\n",
       "      <td>13</td>\n",
       "      <td>Hungary</td>\n",
       "    </tr>\n",
       "    <tr>\n",
       "      <td>14</td>\n",
       "      <td>Ireland</td>\n",
       "    </tr>\n",
       "    <tr>\n",
       "      <td>15</td>\n",
       "      <td>Italy</td>\n",
       "    </tr>\n",
       "    <tr>\n",
       "      <td>16</td>\n",
       "      <td>Lithuania</td>\n",
       "    </tr>\n",
       "    <tr>\n",
       "      <td>17</td>\n",
       "      <td>Luxembourg</td>\n",
       "    </tr>\n",
       "    <tr>\n",
       "      <td>18</td>\n",
       "      <td>Latvia</td>\n",
       "    </tr>\n",
       "    <tr>\n",
       "      <td>19</td>\n",
       "      <td>Malta</td>\n",
       "    </tr>\n",
       "    <tr>\n",
       "      <td>20</td>\n",
       "      <td>Netherlands</td>\n",
       "    </tr>\n",
       "    <tr>\n",
       "      <td>21</td>\n",
       "      <td>Poland</td>\n",
       "    </tr>\n",
       "    <tr>\n",
       "      <td>22</td>\n",
       "      <td>Portugal</td>\n",
       "    </tr>\n",
       "    <tr>\n",
       "      <td>23</td>\n",
       "      <td>Romania</td>\n",
       "    </tr>\n",
       "    <tr>\n",
       "      <td>24</td>\n",
       "      <td>Sweden</td>\n",
       "    </tr>\n",
       "    <tr>\n",
       "      <td>25</td>\n",
       "      <td>Slovenia</td>\n",
       "    </tr>\n",
       "    <tr>\n",
       "      <td>26</td>\n",
       "      <td>Slovakia</td>\n",
       "    </tr>\n",
       "    <tr>\n",
       "      <td>27</td>\n",
       "      <td>United Kingdom</td>\n",
       "    </tr>\n",
       "    <tr>\n",
       "      <td>28</td>\n",
       "      <td>United States</td>\n",
       "    </tr>\n",
       "    <tr>\n",
       "      <td>29</td>\n",
       "      <td>Japan</td>\n",
       "    </tr>\n",
       "    <tr>\n",
       "      <td>30</td>\n",
       "      <td>China</td>\n",
       "    </tr>\n",
       "    <tr>\n",
       "      <td>31</td>\n",
       "      <td>Canada</td>\n",
       "    </tr>\n",
       "    <tr>\n",
       "      <td>32</td>\n",
       "      <td>South Korea</td>\n",
       "    </tr>\n",
       "    <tr>\n",
       "      <td>33</td>\n",
       "      <td>Brazil</td>\n",
       "    </tr>\n",
       "    <tr>\n",
       "      <td>34</td>\n",
       "      <td>India</td>\n",
       "    </tr>\n",
       "    <tr>\n",
       "      <td>35</td>\n",
       "      <td>Mexico</td>\n",
       "    </tr>\n",
       "    <tr>\n",
       "      <td>36</td>\n",
       "      <td>Russia</td>\n",
       "    </tr>\n",
       "    <tr>\n",
       "      <td>37</td>\n",
       "      <td>Australia</td>\n",
       "    </tr>\n",
       "    <tr>\n",
       "      <td>38</td>\n",
       "      <td>Switzerland</td>\n",
       "    </tr>\n",
       "    <tr>\n",
       "      <td>39</td>\n",
       "      <td>Turkey</td>\n",
       "    </tr>\n",
       "    <tr>\n",
       "      <td>40</td>\n",
       "      <td>Taiwan</td>\n",
       "    </tr>\n",
       "    <tr>\n",
       "      <td>41</td>\n",
       "      <td>Norway</td>\n",
       "    </tr>\n",
       "    <tr>\n",
       "      <td>42</td>\n",
       "      <td>Indonesia</td>\n",
       "    </tr>\n",
       "    <tr>\n",
       "      <td>43</td>\n",
       "      <td>South Africa</td>\n",
       "    </tr>\n",
       "    <tr>\n",
       "      <td>44</td>\n",
       "      <td>RoW Asia and Pacific</td>\n",
       "    </tr>\n",
       "    <tr>\n",
       "      <td>45</td>\n",
       "      <td>RoW America</td>\n",
       "    </tr>\n",
       "    <tr>\n",
       "      <td>46</td>\n",
       "      <td>RoW Europe</td>\n",
       "    </tr>\n",
       "    <tr>\n",
       "      <td>47</td>\n",
       "      <td>RoW Africa</td>\n",
       "    </tr>\n",
       "    <tr>\n",
       "      <td>48</td>\n",
       "      <td>RoW Middle East</td>\n",
       "    </tr>\n",
       "  </tbody>\n",
       "</table>\n",
       "</div>"
      ],
      "text/plain": [
       "                  Region\n",
       "0                Austria\n",
       "1                Belgium\n",
       "2               Bulgaria\n",
       "3                 Cyprus\n",
       "4         Czech Republic\n",
       "5                Germany\n",
       "6                Denmark\n",
       "7                Estonia\n",
       "8                  Spain\n",
       "9                Finland\n",
       "10                France\n",
       "11                Greece\n",
       "12               Croatia\n",
       "13               Hungary\n",
       "14               Ireland\n",
       "15                 Italy\n",
       "16             Lithuania\n",
       "17            Luxembourg\n",
       "18                Latvia\n",
       "19                 Malta\n",
       "20           Netherlands\n",
       "21                Poland\n",
       "22              Portugal\n",
       "23               Romania\n",
       "24                Sweden\n",
       "25              Slovenia\n",
       "26              Slovakia\n",
       "27        United Kingdom\n",
       "28         United States\n",
       "29                 Japan\n",
       "30                 China\n",
       "31                Canada\n",
       "32           South Korea\n",
       "33                Brazil\n",
       "34                 India\n",
       "35                Mexico\n",
       "36                Russia\n",
       "37             Australia\n",
       "38           Switzerland\n",
       "39                Turkey\n",
       "40                Taiwan\n",
       "41                Norway\n",
       "42             Indonesia\n",
       "43          South Africa\n",
       "44  RoW Asia and Pacific\n",
       "45           RoW America\n",
       "46            RoW Europe\n",
       "47            RoW Africa\n",
       "48       RoW Middle East"
      ]
     },
     "execution_count": 6,
     "metadata": {},
     "output_type": "execute_result"
    }
   ],
   "source": [
    "pd.DataFrame(Region_Names, columns=[\"Region\"])"
   ]
  },
  {
   "cell_type": "markdown",
   "metadata": {},
   "source": [
    "# 5. Step: Import characterisation factors\n",
    "\n",
    "In order to calculate the environmental footprints, characterisation factors are needed\n",
    "to convert the emissions received by S. L. Y to midpoint indicators"
   ]
  },
  {
   "cell_type": "code",
   "execution_count": 14,
   "metadata": {},
   "outputs": [
    {
     "name": "stdout",
     "output_type": "stream",
     "text": [
      "['CO2 - GWP100                               ', 'CH4 - GWP100                               ', 'N2O - GWP100                               ', 'SF6 - GWP100                               ', 'Global Warming Potential 100               ', 'Land use - crops                           ', 'Land use - pasture                         ', 'Land use - forest                          ', 'Land use                                   ', 'Total Emission relevant energy use         ', 'Total Energy inputs from nature            ', 'Total Energy supply                        ', 'Total Energy Use                           ', 'Domestic extraction  - primary crops       ', 'Domestic extraction  - crops residues      ', 'Domestic extraction  - fodder crops        ', 'Domestic extraction - grazing              ', 'Domestic extraction - wood                 ', 'Domestic extraction - aquatic animals      ', 'Domestic extraction - metal ores           ', 'Domestic extraction - nonmetallic minerals ', 'Domestic extraction - fossil fuels         ', 'Domestic extraction used Total             ', 'Domestic extraction unused                 ', 'Material extraction Total - used and unused', 'Water Consumption Green - Agriculture      ', 'Water Consumption Blue - Agriculture       ', 'Water Consumption Blue - Livestock         ', 'Water Consumption Blue - Manufacturing     ', 'Water Consumption Blue - Electricity       ', 'Water Consumption Blue - Domestic          ', 'Water Consumption Blue - Total             ', 'Water Withdrawal Blue - Manufacturing      ', 'Water Withdrawal Blue - Electricity        ', 'Water Withdrawal Blue - Domestic           ', 'Water Withdrawal Blue - Total              ']\n"
     ]
    }
   ],
   "source": [
    "ImpactFile  = xlrd.open_workbook(ProjectSpecs_DataPath1 + 'Characterization_EB36.xlsx')\n",
    "ImpactSheet = ImpactFile.sheet_by_name('Emissions')\n",
    "ImpactCategory_Names = []\n",
    "for m in range(0,36):\n",
    "    ImpactCategory_Names.append(ImpactSheet.cell_value(0,m+1))\n",
    "    \n",
    "MRIO_Char = np.zeros((36,1707))\n",
    "for m in range(0,36):\n",
    "    for n in range(0,1707):\n",
    "        MRIO_Char[m,n] = ImpactSheet.cell_value(n+1,m+1)\n",
    "\n",
    "print(ImpactCategory_Names)"
   ]
  },
  {
   "cell_type": "markdown",
   "metadata": {},
   "source": [
    "# 6. Step: Selecting the final demand vectors\n",
    "\n",
    "The Y vector is selected based on the environmental footprints that is going to be assessed. The demand emissions are also added in the footprint calculation. The environmental footprint assessed in this study is Carbon Footprint of German households."
   ]
  },
  {
   "cell_type": "code",
   "execution_count": 9,
   "metadata": {},
   "outputs": [
    {
     "name": "stdout",
     "output_type": "stream",
     "text": [
      "Import characterisation factors to calculate midpoint indicators.\n"
     ]
    }
   ],
   "source": [
    "print('Import characterisation factors to calculate midpoint indicators.')\n",
    "\n",
    "FD_DE_HH = MRIO_Y[:,EB3_NoofFDCategories*5]\n",
    "DE_DE_HH = MRIO_FDE[:,EB3_NoofFDCategories*5]\n"
   ]
  },
  {
   "cell_type": "code",
   "execution_count": 7,
   "metadata": {},
   "outputs": [
    {
     "data": {
      "text/plain": [
       "7"
      ]
     },
     "execution_count": 7,
     "metadata": {},
     "output_type": "execute_result"
    }
   ],
   "source": [
    "EB3_NoofFDCategories"
   ]
  },
  {
   "cell_type": "markdown",
   "metadata": {},
   "source": [
    "# 7. Step: Calculating the emissions inventory and footprint\n",
    "\n",
    "The inventories enlist the emissions embodied in the household consumption for each emissions type.\n",
    "The footprint will show the total GHG emissions, measured in CO<sub>2</sub> equivalent.\n",
    "\n",
    "$$Footprint_i = C \\times (S. L. Y_i)$$"
   ]
  },
  {
   "cell_type": "markdown",
   "metadata": {},
   "source": [
    "### Measuring Carbon Footprint of German Households"
   ]
  },
  {
   "cell_type": "code",
   "execution_count": 10,
   "metadata": {},
   "outputs": [],
   "source": [
    "Inventory_DE_HH = MRIO_S.dot(MRIO_L).dot(FD_DE_HH) + DE_DE_HH"
   ]
  },
  {
   "cell_type": "code",
   "execution_count": 11,
   "metadata": {},
   "outputs": [
    {
     "data": {
      "text/plain": [
       "(1707,)"
      ]
     },
     "execution_count": 11,
     "metadata": {},
     "output_type": "execute_result"
    }
   ],
   "source": [
    "Inventory_DE_HH.shape"
   ]
  },
  {
   "cell_type": "code",
   "execution_count": 15,
   "metadata": {},
   "outputs": [
    {
     "name": "stdout",
     "output_type": "stream",
     "text": [
      "762.98 million ton CO2e\n",
      "9460.85 kg CO2e per capita\n"
     ]
    }
   ],
   "source": [
    "CFpt_DE_HH = (MRIO_Char[4,:] * Inventory_DE_HH).sum(axis=0)\n",
    "CFpc_DE_HH = (CFpt_DE_HH/Population[5])\n",
    "\n",
    "print(round(CFpt_DE_HH/1e9,2), \"million ton CO2e\")\n",
    "print(round(CFpc_DE_HH,2), \"kg CO2e per capita\")"
   ]
  },
  {
   "cell_type": "code",
   "execution_count": null,
   "metadata": {},
   "outputs": [],
   "source": []
  },
  {
   "cell_type": "markdown",
   "metadata": {},
   "source": [
    "# Additional Examples\n",
    "\n",
    "### Comparing Material Footprint of Capital Formation in Germany and China"
   ]
  },
  {
   "cell_type": "code",
   "execution_count": 12,
   "metadata": {},
   "outputs": [
    {
     "name": "stdout",
     "output_type": "stream",
     "text": [
      "MF of Capital Formation in Germany:  489.01 million ton material\n",
      "MF per Capita of Capital Formation in Germany:  6.06 ton per capita\n",
      "\n",
      "MF of Capital Formation in China:  16827.23 million ton material\n",
      "MF per Capita of Capital Formation in China:  12.4 ton per capita\n"
     ]
    }
   ],
   "source": [
    "MFpt_DE_GCF = (MRIO_Char[22,:] * (MRIO_S.dot(MRIO_L).dot(MRIO_Y[:,5*7+3]) + MRIO_FDE[:,5*7+3])).sum(axis=0)\n",
    "MFpc_DE_GCF = (MFpt_DE_GCF/Population[5])\n",
    "\n",
    "MFpt_CN_GCF = (MRIO_Char[22,:] * (MRIO_S.dot(MRIO_L).dot(MRIO_Y[:,30*7+3]) + MRIO_FDE[:,30*7+3])).sum(axis=0)\n",
    "MFpc_CN_GCF = (MFpt_CN_GCF/Population[30])\n",
    "\n",
    "print(\"MF of Capital Formation in Germany: \", round(MFpt_DE_GCF/1e3,2), \"million ton material\")\n",
    "print(\"MF per Capita of Capital Formation in Germany: \", round(MFpc_DE_GCF*1e3,2), \"ton per capita\")\n",
    "print()\n",
    "print(\"MF of Capital Formation in China: \", round(MFpt_CN_GCF/1e3,2), \"million ton material\")\n",
    "print(\"MF per Capita of Capital Formation in China: \", round(MFpc_CN_GCF*1e3,2), \"ton per capita\")"
   ]
  },
  {
   "cell_type": "markdown",
   "metadata": {},
   "source": [
    "### Comparing Energy Footprint of German and Swedish Government"
   ]
  },
  {
   "cell_type": "code",
   "execution_count": 13,
   "metadata": {},
   "outputs": [
    {
     "name": "stdout",
     "output_type": "stream",
     "text": [
      "EnF of German Government:  3283770.02 TJ\n",
      "EnF per Capita of German Government:  6.06 GJ per capita\n",
      "\n",
      "EnF of Swedish Government:  265762.77 TJ\n",
      "EnF per Capita of Swedish Government:  12.4 GJ per capita\n"
     ]
    }
   ],
   "source": [
    "EnFpt_DE_GOV = (MRIO_Char[12,:] * (MRIO_S.dot(MRIO_L).dot(MRIO_Y[:,5*7+2]) + MRIO_FDE[:,5*7+2])).sum(axis=0)\n",
    "EnFpc_DE_GOV = (MFpt_DE_GCF/Population[5])\n",
    "\n",
    "EnFpt_SE_GOV = (MRIO_Char[12,:] * (MRIO_S.dot(MRIO_L).dot(MRIO_Y[:,24*7+2]) + MRIO_FDE[:,24*7+2])).sum(axis=0)\n",
    "EnFpc_SE_GOV = (MFpt_CN_GCF/Population[30])\n",
    "\n",
    "print(\"EnF of German Government: \", round(EnFpt_DE_GOV,2), \"TJ\")\n",
    "print(\"EnF per Capita of German Government: \", round(EnFpc_DE_GOV*1e3,2), \"GJ per capita\")\n",
    "print()\n",
    "print(\"EnF of Swedish Government: \", round(EnFpt_SE_GOV,2), \"TJ\")\n",
    "print(\"EnF per Capita of Swedish Government: \", round(EnFpc_SE_GOV*1e3,2), \"GJ per capita\")"
   ]
  },
  {
   "cell_type": "code",
   "execution_count": 15,
   "metadata": {},
   "outputs": [],
   "source": [
    "import matplotlib.pyplot as plt\n",
    "#import seaborn as sns\n",
    "#sns.set()"
   ]
  },
  {
   "cell_type": "code",
   "execution_count": 16,
   "metadata": {},
   "outputs": [
    {
     "name": "stdout",
     "output_type": "stream",
     "text": [
      "['Austria', 'Belgium', 'Germany', 'Spain', 'France']\n"
     ]
    }
   ],
   "source": [
    "Reglist = [0,1,5,8,10]\n",
    "Regnames = [Region_Names[i] for i in Reglist]\n",
    "\n",
    "print(Regnames)\n",
    "\n",
    "CF_NatPC = np.zeros(5)\n",
    "\n",
    "for i in range(0,5):\n",
    "    r = Reglist[i]\n",
    "    \n",
    "    CF_Nat = MRIO_Char[4,:] * (MRIO_S.dot(MRIO_L).dot(MRIO_Y[:,7*r]) + MRIO_FDE[:,7*r])\n",
    "    CF_Nat = CF_Nat.sum(axis=0)\n",
    "    \n",
    "    CF_NatPC[i] = CF_Nat/Population[r]"
   ]
  },
  {
   "cell_type": "code",
   "execution_count": 18,
   "metadata": {},
   "outputs": [
    {
     "data": {
      "image/png": "[encoded data removed]",
      "text/plain": [
       "<Figure size 432x288 with 1 Axes>"
      ]
     },
     "metadata": {
      "needs_background": "light"
     },
     "output_type": "display_data"
    }
   ],
   "source": [
    "plt.barh(Regnames, CF_NatPC/1e3)\n",
    "plt.ylabel('Countries')\n",
    "plt.xlabel('Footprint, ton CO2/capita')\n",
    "plt.title('Household Carbon Footprint', size=18)\n",
    "\n",
    "plt.show()"
   ]
  },
  {
   "cell_type": "code",
   "execution_count": 21,
   "metadata": {},
   "outputs": [
    {
     "data": {
      "image/png": "[encoded data removed]",
      "text/plain": [
       "<Figure size 720x576 with 1 Axes>"
      ]
     },
     "metadata": {
      "needs_background": "light"
     },
     "output_type": "display_data"
    }
   ],
   "source": [
    "plt.figure(figsize=(10,8))\n",
    "plt.barh(Regnames, CF_NatPC/1e3)\n",
    "plt.ylabel('Countries', size=18)\n",
    "plt.xlabel(r'Footprint, ton CO$_2$/capita', size=18)\n",
    "plt.title('National Carbon Footprint', size=28)\n",
    "\n",
    "plt.show()"
   ]
  },
  {
   "cell_type": "markdown",
   "metadata": {},
   "source": [
    "# Independent Exercise\n",
    "\n",
    "Calculate other environmental footprints and compare the results. Discuss the difference between these numbers."
   ]
  },
  {
   "cell_type": "code",
   "execution_count": 22,
   "metadata": {},
   "outputs": [
    {
     "name": "stdout",
     "output_type": "stream",
     "text": [
      "Script is finished. Terminating logging process and closing all log files.\n",
      "End of simulation: Mon Feb  3 14:01:00 2020.\n",
      "Duration of simulation: 7988.7 seconds.\n"
     ]
    }
   ],
   "source": [
    "print('Script is finished. Terminating logging process and closing all log files.')\n",
    "Time_End = time.time()\n",
    "Time_Duration = Time_End - Time_Start\n",
    "\n",
    "print('End of simulation: ' + time.asctime() + '.')\n",
    "print('Duration of simulation: %.1f seconds.' % Time_Duration)\n"
   ]
  }
 ],
 "metadata": {
  "kernelspec": {
   "display_name": "Python 3",
   "language": "python",
   "name": "python3"
  },
  "language_info": {
   "codemirror_mode": {
    "name": "ipython",
    "version": 3
   },
   "file_extension": ".py",
   "mimetype": "text/x-python",
   "name": "python",
   "nbconvert_exporter": "python",
   "pygments_lexer": "ipython3",
   "version": "3.7.4"
  }
 },
 "nbformat": 4,
 "nbformat_minor": 2
}
